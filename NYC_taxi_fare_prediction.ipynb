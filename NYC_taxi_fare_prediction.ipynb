{
 "cells": [
  {
   "cell_type": "code",
   "execution_count": 0,
   "metadata": {
    "application/vnd.databricks.v1+cell": {
     "cellMetadata": {
      "byteLimit": 2048000,
      "rowLimit": 10000
     },
     "inputWidgets": {},
     "nuid": "c8fe9b6c-edfd-400c-8137-0137eb82026f",
     "showTitle": false,
     "tableResultSettingsMap": {},
     "title": ""
    }
   },
   "outputs": [],
   "source": [
    "# enable autoreload (https://docs.databricks.com/en/files/workspace-modules.html#autoreload-for-python-modules)\n",
    "%load_ext autoreload\n",
    "%autoreload 2"
   ]
  },
  {
   "cell_type": "code",
   "execution_count": 0,
   "metadata": {
    "application/vnd.databricks.v1+cell": {
     "cellMetadata": {
      "byteLimit": 2048000,
      "rowLimit": 10000
     },
     "inputWidgets": {},
     "nuid": "569862d3-4d70-4065-b2fe-245ad5ef9ca7",
     "showTitle": false,
     "tableResultSettingsMap": {},
     "title": ""
    }
   },
   "outputs": [],
   "source": [
    "import data_processing as dpr\n",
    "import training as tr \n",
    "import tuning as tu"
   ]
  },
  {
   "cell_type": "code",
   "execution_count": 0,
   "metadata": {
    "application/vnd.databricks.v1+cell": {
     "cellMetadata": {
      "byteLimit": 2048000,
      "rowLimit": 10000
     },
     "inputWidgets": {},
     "nuid": "15871b51-3921-4097-af8b-4e116f297c3e",
     "showTitle": false,
     "tableResultSettingsMap": {},
     "title": ""
    }
   },
   "outputs": [],
   "source": [
    "# parameters for data processing\n",
    "path = '' # path to the csv with data\n",
    "train_fraction = 0.95 # full dataset contains ~55 milion records, so 5% for evaluation is sufficient\n",
    "chronological_split = False # random split by default\n",
    "\n",
    "# parameter for hyperparameter tuning\n",
    "max_evals = 3 # number of trials to perform\n",
    "parallelism = 1 # number trials to run in parallel (set to bigger than 1 to distribute tuning runs)\n",
    "\n",
    "# parameters for training\n",
    "number_of_epochs = tr.number_of_epochs # if this value is overwritten, the number of epochs will be different for hyperparameter tuning and final training\n",
    "utilisation = 0.1 # percentage of available memory to be used for storing partitions of train dataset during training, value determined empirically\n",
    "model_name = 'NYC_taxi_fare_prediction_model'"
   ]
  },
  {
   "cell_type": "code",
   "execution_count": 0,
   "metadata": {
    "application/vnd.databricks.v1+cell": {
     "cellMetadata": {
      "byteLimit": 2048000,
      "rowLimit": 10000
     },
     "inputWidgets": {},
     "nuid": "e221bcc4-5a39-40d1-a722-d1d1da33b15c",
     "showTitle": false,
     "tableResultSettingsMap": {},
     "title": ""
    }
   },
   "outputs": [],
   "source": [
    "# process data\n",
    "dpr.clean_and_split(path, train_fraction, chronological_split)\n",
    "dpr.compute_mean_stddev()\n",
    "dpr.prepare_sample_for_tuning()"
   ]
  },
  {
   "cell_type": "code",
   "execution_count": 0,
   "metadata": {
    "application/vnd.databricks.v1+cell": {
     "cellMetadata": {
      "byteLimit": 2048000,
      "rowLimit": 10000
     },
     "inputWidgets": {},
     "nuid": "37e7c8e0-1b32-42c5-a26e-97e14c0020d0",
     "showTitle": false,
     "tableResultSettingsMap": {},
     "title": ""
    }
   },
   "outputs": [],
   "source": [
    "# tune hyperparameters\n",
    "best_params = tu.tune_hyperparameters(max_evals, parallelism)"
   ]
  },
  {
   "cell_type": "code",
   "execution_count": 0,
   "metadata": {
    "application/vnd.databricks.v1+cell": {
     "cellMetadata": {
      "byteLimit": 2048000,
      "rowLimit": 10000
     },
     "inputWidgets": {},
     "nuid": "8bc63b76-d4a4-4db3-a3f3-4bde78357336",
     "showTitle": false,
     "tableResultSettingsMap": {},
     "title": ""
    }
   },
   "outputs": [],
   "source": [
    "# train and save model\n",
    "learn, rmse_val = tr.train_model(best_params, utilisation, number_of_epochs)\n",
    "print(f'RMSE on validation set: {rmse_val}')\n",
    "tr.save_model(learn, model_name)"
   ]
  }
 ],
 "metadata": {
  "application/vnd.databricks.v1+notebook": {
   "computePreferences": null,
   "dashboards": [],
   "environmentMetadata": {
    "base_environment": "",
    "environment_version": "2"
   },
   "inputWidgetPreferences": null,
   "language": "python",
   "notebookMetadata": {
    "pythonIndentUnit": 4
   },
   "notebookName": "NYC_taxi_fare_prediction",
   "widgets": {}
  },
  "language_info": {
   "name": "python"
  }
 },
 "nbformat": 4,
 "nbformat_minor": 0
}
